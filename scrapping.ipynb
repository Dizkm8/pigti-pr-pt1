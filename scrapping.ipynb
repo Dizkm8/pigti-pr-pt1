{
 "cells": [
  {
   "cell_type": "code",
   "outputs": [],
   "source": [
    "# import module\n",
    "from selenium import webdriver\n",
    "from selenium.webdriver.common.by import By\n",
    "import time"
   ],
   "metadata": {
    "collapsed": false,
    "ExecuteTime": {
     "end_time": "2024-03-15T13:39:10.977619Z",
     "start_time": "2024-03-15T13:39:10.673289Z"
    }
   },
   "id": "8a350762be104425",
   "execution_count": 1
  },
  {
   "cell_type": "code",
   "outputs": [],
   "source": [
    "# Create the webdriver object. Here the \n",
    "# chromedriver is present in the driver\n",
    "# folder of the root directory.\n",
    "\n",
    "driver = webdriver.Chrome()\n",
    "\n",
    "driver.get(\"https://www.scrapethissite.com/pages/simple/\")\n",
    "  \n",
    "# Maximize the window and let code stall \n",
    "# for 10s to properly maximize the window.\n",
    "driver.maximize_window()\n",
    "time.sleep(10)\n",
    "\n",
    "# Start scrapping HTML elements\n",
    "\n",
    "countryNames = driver.find_elements(By.CLASS_NAME, \"country-name\")\n",
    "\n",
    "time.sleep(5)\n",
    "\n",
    "capitalNames = driver.find_elements(By.CLASS_NAME, \"country-capital\")\n",
    "\n",
    "time.sleep(5)\n",
    "\n",
    "populationsValues = driver.find_elements(By.CLASS_NAME, \"country-population\")\n",
    "\n",
    "time.sleep(5)\n",
    "\n",
    "areaValues = driver.find_elements(By.CLASS_NAME, \"country-area\")\n",
    "\n",
    "time.sleep(5)\n",
    "\n"
   ],
   "metadata": {
    "collapsed": false,
    "ExecuteTime": {
     "end_time": "2024-03-15T13:45:23.640625Z",
     "start_time": "2024-03-15T13:44:50.415103Z"
    }
   },
   "id": "4e85adcc03716513",
   "execution_count": 7
  },
  {
   "cell_type": "code",
   "outputs": [],
   "source": [
    "namesList = []\n",
    "for i in countryNames:\n",
    "    namesList.append(i.text)\n",
    "    \n",
    "capitalsList = []\n",
    "for x in capitalNames:\n",
    "    capitalsList.append(x.text)    \n",
    "  \n",
    "populationsList = []\n",
    "for x in populationsValues:\n",
    "    populationsList.append(x.text)   \n",
    "    \n",
    "areasList = []\n",
    "for x in areaValues:\n",
    "    areasList.append(x.text)    \n",
    "\n",
    "driver.close()"
   ],
   "metadata": {
    "collapsed": false,
    "ExecuteTime": {
     "end_time": "2024-03-15T13:45:40.825097Z",
     "start_time": "2024-03-15T13:45:25.789266Z"
    }
   },
   "id": "fba76c82cd9aba4f",
   "execution_count": 8
  },
  {
   "cell_type": "code",
   "outputs": [
    {
     "name": "stdout",
     "output_type": "stream",
     "text": [
      "DataFrame successfully exported to Excel.\n"
     ]
    }
   ],
   "source": [
    "import pandas as pd\n",
    "import openpyxl\n",
    "\n",
    "# Create a DataFrame\n",
    "data = {\n",
    "    'Nombre pais': namesList,\n",
    "    'Capital': capitalsList,\n",
    "    'Población': populationsList,\n",
    "    'Area': areasList\n",
    "}\n",
    "\n",
    "df = pd.DataFrame(data)\n",
    "\n",
    "# Export DataFrame to Excel\n",
    "excel_file = 'country_data.xlsx'\n",
    "df.to_excel(excel_file, index=False)\n",
    "\n",
    "print(\"DataFrame successfully exported to Excel.\")"
   ],
   "metadata": {
    "collapsed": false,
    "ExecuteTime": {
     "end_time": "2024-03-15T13:46:21.082538Z",
     "start_time": "2024-03-15T13:46:18.359264Z"
    }
   },
   "id": "b7c7371a970b2533",
   "execution_count": 10
  },
  {
   "cell_type": "code",
   "outputs": [],
   "source": [],
   "metadata": {
    "collapsed": false
   },
   "id": "933f3aa98d3b476f"
  }
 ],
 "metadata": {
  "kernelspec": {
   "display_name": "Python 3",
   "language": "python",
   "name": "python3"
  },
  "language_info": {
   "codemirror_mode": {
    "name": "ipython",
    "version": 2
   },
   "file_extension": ".py",
   "mimetype": "text/x-python",
   "name": "python",
   "nbconvert_exporter": "python",
   "pygments_lexer": "ipython2",
   "version": "2.7.6"
  }
 },
 "nbformat": 4,
 "nbformat_minor": 5
}
