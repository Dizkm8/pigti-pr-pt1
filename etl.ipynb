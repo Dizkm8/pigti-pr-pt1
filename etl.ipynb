{
 "cells": [
  {
   "cell_type": "markdown",
   "source": [
    "# Proyecto Integrador Gestión TI\n",
    "## Trabajo 1"
   ],
   "metadata": {
    "collapsed": false
   },
   "id": "5ead3f9967ea290e"
  },
  {
   "cell_type": "code",
   "execution_count": 23,
   "outputs": [],
   "source": [
    "import pandas as pd\n",
    "import random\n",
    "from faker import Faker\n",
    "from math import ceil"
   ],
   "metadata": {
    "collapsed": false,
    "ExecuteTime": {
     "end_time": "2024-03-16T01:08:26.702804950Z",
     "start_time": "2024-03-16T01:08:26.280047722Z"
    }
   },
   "id": "aad024300821e8ae"
  },
  {
   "cell_type": "code",
   "execution_count": 24,
   "outputs": [],
   "source": [
    "table_1 = pd.read_excel(\"original_data.xlsx\", sheet_name=0)\n",
    "table_2 = pd.read_excel(\"original_data.xlsx\", sheet_name=1)\n",
    "table_3 = pd.read_excel(\"original_data.xlsx\", sheet_name=2)"
   ],
   "metadata": {
    "collapsed": false,
    "ExecuteTime": {
     "end_time": "2024-03-16T01:08:27.102359948Z",
     "start_time": "2024-03-16T01:08:26.617310288Z"
    }
   },
   "id": "adaa7f404ecbaae4"
  },
  {
   "cell_type": "markdown",
   "source": [
    "1)"
   ],
   "metadata": {
    "collapsed": false
   },
   "id": "70f7f64a59bbe16"
  },
  {
   "cell_type": "code",
   "execution_count": 25,
   "outputs": [],
   "source": [
    "table_2['Correo'] = table_2['Representante'].str.split().str[0] + table_2['Representante'].str.split().str[-1] + '@work.com'"
   ],
   "metadata": {
    "collapsed": false,
    "ExecuteTime": {
     "end_time": "2024-03-16T01:08:27.172784997Z",
     "start_time": "2024-03-16T01:08:27.146053927Z"
    }
   },
   "id": "21e4361c9e7355fe"
  },
  {
   "cell_type": "markdown",
   "source": [
    "2)"
   ],
   "metadata": {
    "collapsed": false
   },
   "id": "5b9f1071fdaecce2"
  },
  {
   "cell_type": "code",
   "execution_count": 26,
   "outputs": [],
   "source": [
    "table_1.insert(0, \"ID\", range(0, len(table_1)))"
   ],
   "metadata": {
    "collapsed": false,
    "ExecuteTime": {
     "end_time": "2024-03-16T01:08:27.174909638Z",
     "start_time": "2024-03-16T01:08:27.146663103Z"
    }
   },
   "id": "33a914c1fd0191d1"
  },
  {
   "cell_type": "code",
   "execution_count": 27,
   "outputs": [],
   "source": [
    "time = table_1.copy()\n",
    "time['Fecha'] = pd.to_datetime(time['Fecha'])\n",
    "time['NúmeroMes'] = time['Fecha'].dt.day # Se cambia el nombre a NúmeroDía? / Cambiar a solo Día?\n",
    "time['NombreMes'] = time['Fecha'].dt.month_name('es_CL.utf8')\n",
    "time['NúmeroAño'] = time['Fecha'].dt.year"
   ],
   "metadata": {
    "collapsed": false,
    "ExecuteTime": {
     "end_time": "2024-03-16T01:08:27.752479272Z",
     "start_time": "2024-03-16T01:08:27.147004154Z"
    }
   },
   "id": "a37035f87e77468a"
  },
  {
   "cell_type": "code",
   "execution_count": 28,
   "outputs": [],
   "source": [
    "time.drop([\"Representante\", \"Fecha\", \"CódigoProducto\", \"Unidades\"], axis=1, inplace=True)"
   ],
   "metadata": {
    "collapsed": false,
    "ExecuteTime": {
     "end_time": "2024-03-16T01:08:27.769639229Z",
     "start_time": "2024-03-16T01:08:27.758047014Z"
    }
   },
   "id": "c7281359b9b9e8a5"
  },
  {
   "cell_type": "code",
   "execution_count": 29,
   "outputs": [
    {
     "data": {
      "text/plain": "        ID  NúmeroMes  NombreMes  NúmeroAño\n0        0          1      Enero       2014\n1        1          2      Enero       2014\n2        2          2      Enero       2014\n3        3          2      Enero       2014\n4        4          2      Enero       2014\n...    ...        ...        ...        ...\n9995  9995         31  Diciembre       2015\n9996  9996         31  Diciembre       2015\n9997  9997         31  Diciembre       2015\n9998  9998         31  Diciembre       2015\n9999  9999         31  Diciembre       2015\n\n[10000 rows x 4 columns]",
      "text/html": "<div>\n<style scoped>\n    .dataframe tbody tr th:only-of-type {\n        vertical-align: middle;\n    }\n\n    .dataframe tbody tr th {\n        vertical-align: top;\n    }\n\n    .dataframe thead th {\n        text-align: right;\n    }\n</style>\n<table border=\"1\" class=\"dataframe\">\n  <thead>\n    <tr style=\"text-align: right;\">\n      <th></th>\n      <th>ID</th>\n      <th>NúmeroMes</th>\n      <th>NombreMes</th>\n      <th>NúmeroAño</th>\n    </tr>\n  </thead>\n  <tbody>\n    <tr>\n      <th>0</th>\n      <td>0</td>\n      <td>1</td>\n      <td>Enero</td>\n      <td>2014</td>\n    </tr>\n    <tr>\n      <th>1</th>\n      <td>1</td>\n      <td>2</td>\n      <td>Enero</td>\n      <td>2014</td>\n    </tr>\n    <tr>\n      <th>2</th>\n      <td>2</td>\n      <td>2</td>\n      <td>Enero</td>\n      <td>2014</td>\n    </tr>\n    <tr>\n      <th>3</th>\n      <td>3</td>\n      <td>2</td>\n      <td>Enero</td>\n      <td>2014</td>\n    </tr>\n    <tr>\n      <th>4</th>\n      <td>4</td>\n      <td>2</td>\n      <td>Enero</td>\n      <td>2014</td>\n    </tr>\n    <tr>\n      <th>...</th>\n      <td>...</td>\n      <td>...</td>\n      <td>...</td>\n      <td>...</td>\n    </tr>\n    <tr>\n      <th>9995</th>\n      <td>9995</td>\n      <td>31</td>\n      <td>Diciembre</td>\n      <td>2015</td>\n    </tr>\n    <tr>\n      <th>9996</th>\n      <td>9996</td>\n      <td>31</td>\n      <td>Diciembre</td>\n      <td>2015</td>\n    </tr>\n    <tr>\n      <th>9997</th>\n      <td>9997</td>\n      <td>31</td>\n      <td>Diciembre</td>\n      <td>2015</td>\n    </tr>\n    <tr>\n      <th>9998</th>\n      <td>9998</td>\n      <td>31</td>\n      <td>Diciembre</td>\n      <td>2015</td>\n    </tr>\n    <tr>\n      <th>9999</th>\n      <td>9999</td>\n      <td>31</td>\n      <td>Diciembre</td>\n      <td>2015</td>\n    </tr>\n  </tbody>\n</table>\n<p>10000 rows × 4 columns</p>\n</div>"
     },
     "execution_count": 29,
     "metadata": {},
     "output_type": "execute_result"
    }
   ],
   "source": [
    "time"
   ],
   "metadata": {
    "collapsed": false,
    "ExecuteTime": {
     "end_time": "2024-03-16T01:08:27.810230821Z",
     "start_time": "2024-03-16T01:08:27.765557055Z"
    }
   },
   "id": "50962d1413b0edd"
  },
  {
   "cell_type": "markdown",
   "source": [
    "3)"
   ],
   "metadata": {
    "collapsed": false
   },
   "id": "b0589417c84a335"
  },
  {
   "cell_type": "code",
   "execution_count": 30,
   "outputs": [],
   "source": [
    "table_2.insert(1, \"Apellido\", str())"
   ],
   "metadata": {
    "collapsed": false,
    "ExecuteTime": {
     "end_time": "2024-03-16T01:08:27.827184681Z",
     "start_time": "2024-03-16T01:08:27.792341879Z"
    }
   },
   "id": "eb26b1c7117c0fa0"
  },
  {
   "cell_type": "code",
   "execution_count": 31,
   "outputs": [],
   "source": [
    "def split_names(row):\n",
    "    [name, last_name] = row[\"Representante\"].split()\n",
    "    row[\"Representante\"] = name\n",
    "    row[\"Apellido\"] = last_name\n",
    "    return row"
   ],
   "metadata": {
    "collapsed": false,
    "ExecuteTime": {
     "end_time": "2024-03-16T01:08:27.830227457Z",
     "start_time": "2024-03-16T01:08:27.804402605Z"
    }
   },
   "id": "1ba0beba27aff1e5"
  },
  {
   "cell_type": "code",
   "execution_count": 32,
   "outputs": [],
   "source": [
    "table_2 = table_2.apply(split_names, axis=1)"
   ],
   "metadata": {
    "collapsed": false,
    "ExecuteTime": {
     "end_time": "2024-03-16T01:08:27.893729566Z",
     "start_time": "2024-03-16T01:08:27.827772499Z"
    }
   },
   "id": "be60a948990d9df8"
  },
  {
   "cell_type": "code",
   "execution_count": 33,
   "outputs": [
    {
     "data": {
      "text/plain": "   Representante  Apellido Region                     Correo\n0        Agustín   Reynoso   Este    AgustínReynoso@work.com\n1           Alan     Ramos  Norte         AlanRamos@work.com\n2         Andrés     Mejía  Oeste       AndrésMejía@work.com\n3         Arturo    Franco   Este      ArturoFranco@work.com\n4        Bárbara  Peñalosa  Norte   BárbaraPeñalosa@work.com\n..           ...       ...    ...                        ...\n67     Silvestre   Morales  Oeste  SilvestreMorales@work.com\n68         Sonia    Mujíca   Este       SoniaMujíca@work.com\n69        Tamara   Márquez  Oeste     TamaraMárquez@work.com\n70       Teodoro    Jurado  Oeste     TeodoroJurado@work.com\n71        Teresa    Rivero  Norte      TeresaRivero@work.com\n\n[72 rows x 4 columns]",
      "text/html": "<div>\n<style scoped>\n    .dataframe tbody tr th:only-of-type {\n        vertical-align: middle;\n    }\n\n    .dataframe tbody tr th {\n        vertical-align: top;\n    }\n\n    .dataframe thead th {\n        text-align: right;\n    }\n</style>\n<table border=\"1\" class=\"dataframe\">\n  <thead>\n    <tr style=\"text-align: right;\">\n      <th></th>\n      <th>Representante</th>\n      <th>Apellido</th>\n      <th>Region</th>\n      <th>Correo</th>\n    </tr>\n  </thead>\n  <tbody>\n    <tr>\n      <th>0</th>\n      <td>Agustín</td>\n      <td>Reynoso</td>\n      <td>Este</td>\n      <td>AgustínReynoso@work.com</td>\n    </tr>\n    <tr>\n      <th>1</th>\n      <td>Alan</td>\n      <td>Ramos</td>\n      <td>Norte</td>\n      <td>AlanRamos@work.com</td>\n    </tr>\n    <tr>\n      <th>2</th>\n      <td>Andrés</td>\n      <td>Mejía</td>\n      <td>Oeste</td>\n      <td>AndrésMejía@work.com</td>\n    </tr>\n    <tr>\n      <th>3</th>\n      <td>Arturo</td>\n      <td>Franco</td>\n      <td>Este</td>\n      <td>ArturoFranco@work.com</td>\n    </tr>\n    <tr>\n      <th>4</th>\n      <td>Bárbara</td>\n      <td>Peñalosa</td>\n      <td>Norte</td>\n      <td>BárbaraPeñalosa@work.com</td>\n    </tr>\n    <tr>\n      <th>...</th>\n      <td>...</td>\n      <td>...</td>\n      <td>...</td>\n      <td>...</td>\n    </tr>\n    <tr>\n      <th>67</th>\n      <td>Silvestre</td>\n      <td>Morales</td>\n      <td>Oeste</td>\n      <td>SilvestreMorales@work.com</td>\n    </tr>\n    <tr>\n      <th>68</th>\n      <td>Sonia</td>\n      <td>Mujíca</td>\n      <td>Este</td>\n      <td>SoniaMujíca@work.com</td>\n    </tr>\n    <tr>\n      <th>69</th>\n      <td>Tamara</td>\n      <td>Márquez</td>\n      <td>Oeste</td>\n      <td>TamaraMárquez@work.com</td>\n    </tr>\n    <tr>\n      <th>70</th>\n      <td>Teodoro</td>\n      <td>Jurado</td>\n      <td>Oeste</td>\n      <td>TeodoroJurado@work.com</td>\n    </tr>\n    <tr>\n      <th>71</th>\n      <td>Teresa</td>\n      <td>Rivero</td>\n      <td>Norte</td>\n      <td>TeresaRivero@work.com</td>\n    </tr>\n  </tbody>\n</table>\n<p>72 rows × 4 columns</p>\n</div>"
     },
     "execution_count": 33,
     "metadata": {},
     "output_type": "execute_result"
    }
   ],
   "source": [
    "table_2"
   ],
   "metadata": {
    "collapsed": false,
    "ExecuteTime": {
     "end_time": "2024-03-16T01:08:27.897157760Z",
     "start_time": "2024-03-16T01:08:27.869580875Z"
    }
   },
   "id": "af06dbb9a57e87a"
  },
  {
   "cell_type": "markdown",
   "source": [
    "4)"
   ],
   "metadata": {
    "collapsed": false
   },
   "id": "adef2dca99aefeeb"
  },
  {
   "cell_type": "code",
   "execution_count": 34,
   "outputs": [],
   "source": [
    "table_3.insert(2, \"PrecioVenta\", 0)\n",
    "table_3.insert(3, \"CostoProducción\", 0)"
   ],
   "metadata": {
    "collapsed": false,
    "ExecuteTime": {
     "end_time": "2024-03-16T01:08:27.950860925Z",
     "start_time": "2024-03-16T01:08:27.871125708Z"
    }
   },
   "id": "5ab4dfad71e853d4"
  },
  {
   "cell_type": "code",
   "execution_count": 35,
   "outputs": [],
   "source": [
    "def define_prices(row):\n",
    "    match row[\"Descripción\"][0]:\n",
    "        case \"A\":\n",
    "            base_price = 1000\n",
    "        case \"S\":\n",
    "            base_price = 500\n",
    "        case \"L\", \"M\", \"H\":\n",
    "            base_price = 300\n",
    "        case \"B\":\n",
    "            base_price = 200\n",
    "        case _:\n",
    "            base_price = 150\n",
    "    msrp = ceil(base_price * random.random() * 1000)\n",
    "    cost = ceil((msrp * random.random()) / 2)\n",
    "\n",
    "    row[\"PrecioVenta\"] = msrp\n",
    "    row[\"CostoProducción\"] = cost\n",
    "    return row"
   ],
   "metadata": {
    "collapsed": false,
    "ExecuteTime": {
     "end_time": "2024-03-16T01:08:28.012311160Z",
     "start_time": "2024-03-16T01:08:27.879039107Z"
    }
   },
   "id": "c5b3e9013b50f05e"
  },
  {
   "cell_type": "code",
   "execution_count": 36,
   "outputs": [],
   "source": [
    "table_3 = table_3.apply(define_prices, axis=1)"
   ],
   "metadata": {
    "collapsed": false,
    "ExecuteTime": {
     "end_time": "2024-03-16T01:08:28.012864950Z",
     "start_time": "2024-03-16T01:08:27.923036526Z"
    }
   },
   "id": "c1615bba1bc259a5"
  },
  {
   "cell_type": "markdown",
   "source": [
    "5)"
   ],
   "metadata": {
    "collapsed": false
   },
   "id": "8049450d90b9e77f"
  },
  {
   "cell_type": "code",
   "execution_count": 39,
   "outputs": [],
   "source": [
    "fake = Faker('es_CL')\n",
    "phone_numbers = [ fake.phone_number() for _ in range(0, len(table_2))]"
   ],
   "metadata": {
    "collapsed": false,
    "ExecuteTime": {
     "end_time": "2024-03-16T01:08:44.166306010Z",
     "start_time": "2024-03-16T01:08:44.060555953Z"
    }
   },
   "id": "b420ba112aa9bbde"
  },
  {
   "cell_type": "code",
   "execution_count": 40,
   "outputs": [],
   "source": [
    "table_2.insert(4, \"NúmeroContacto\", phone_numbers)"
   ],
   "metadata": {
    "collapsed": false,
    "ExecuteTime": {
     "end_time": "2024-03-16T01:08:44.938159452Z",
     "start_time": "2024-03-16T01:08:44.897397845Z"
    }
   },
   "id": "41b52991b1aad4fa"
  },
  {
   "cell_type": "code",
   "execution_count": 41,
   "outputs": [
    {
     "data": {
      "text/plain": "   Representante  Apellido Region                     Correo   NúmeroContacto\n0        Agustín   Reynoso   Este    AgustínReynoso@work.com  +56 800 707 450\n1           Alan     Ramos  Norte         AlanRamos@work.com  +56 41 275 5043\n2         Andrés     Mejía  Oeste       AndrésMejía@work.com  +56 43 314 3643\n3         Arturo    Franco   Este      ArturoFranco@work.com  +56 600 982 837\n4        Bárbara  Peñalosa  Norte   BárbaraPeñalosa@work.com  +56 2 2995 4763\n..           ...       ...    ...                        ...              ...\n67     Silvestre   Morales  Oeste  SilvestreMorales@work.com  +56 63 212 8029\n68         Sonia    Mujíca   Este       SoniaMujíca@work.com  +56 73 265 0896\n69        Tamara   Márquez  Oeste     TamaraMárquez@work.com  +56 72 357 1480\n70       Teodoro    Jurado  Oeste     TeodoroJurado@work.com  +56 2 3457 1266\n71        Teresa    Rivero  Norte      TeresaRivero@work.com  +56 61 333 5066\n\n[72 rows x 5 columns]",
      "text/html": "<div>\n<style scoped>\n    .dataframe tbody tr th:only-of-type {\n        vertical-align: middle;\n    }\n\n    .dataframe tbody tr th {\n        vertical-align: top;\n    }\n\n    .dataframe thead th {\n        text-align: right;\n    }\n</style>\n<table border=\"1\" class=\"dataframe\">\n  <thead>\n    <tr style=\"text-align: right;\">\n      <th></th>\n      <th>Representante</th>\n      <th>Apellido</th>\n      <th>Region</th>\n      <th>Correo</th>\n      <th>NúmeroContacto</th>\n    </tr>\n  </thead>\n  <tbody>\n    <tr>\n      <th>0</th>\n      <td>Agustín</td>\n      <td>Reynoso</td>\n      <td>Este</td>\n      <td>AgustínReynoso@work.com</td>\n      <td>+56 800 707 450</td>\n    </tr>\n    <tr>\n      <th>1</th>\n      <td>Alan</td>\n      <td>Ramos</td>\n      <td>Norte</td>\n      <td>AlanRamos@work.com</td>\n      <td>+56 41 275 5043</td>\n    </tr>\n    <tr>\n      <th>2</th>\n      <td>Andrés</td>\n      <td>Mejía</td>\n      <td>Oeste</td>\n      <td>AndrésMejía@work.com</td>\n      <td>+56 43 314 3643</td>\n    </tr>\n    <tr>\n      <th>3</th>\n      <td>Arturo</td>\n      <td>Franco</td>\n      <td>Este</td>\n      <td>ArturoFranco@work.com</td>\n      <td>+56 600 982 837</td>\n    </tr>\n    <tr>\n      <th>4</th>\n      <td>Bárbara</td>\n      <td>Peñalosa</td>\n      <td>Norte</td>\n      <td>BárbaraPeñalosa@work.com</td>\n      <td>+56 2 2995 4763</td>\n    </tr>\n    <tr>\n      <th>...</th>\n      <td>...</td>\n      <td>...</td>\n      <td>...</td>\n      <td>...</td>\n      <td>...</td>\n    </tr>\n    <tr>\n      <th>67</th>\n      <td>Silvestre</td>\n      <td>Morales</td>\n      <td>Oeste</td>\n      <td>SilvestreMorales@work.com</td>\n      <td>+56 63 212 8029</td>\n    </tr>\n    <tr>\n      <th>68</th>\n      <td>Sonia</td>\n      <td>Mujíca</td>\n      <td>Este</td>\n      <td>SoniaMujíca@work.com</td>\n      <td>+56 73 265 0896</td>\n    </tr>\n    <tr>\n      <th>69</th>\n      <td>Tamara</td>\n      <td>Márquez</td>\n      <td>Oeste</td>\n      <td>TamaraMárquez@work.com</td>\n      <td>+56 72 357 1480</td>\n    </tr>\n    <tr>\n      <th>70</th>\n      <td>Teodoro</td>\n      <td>Jurado</td>\n      <td>Oeste</td>\n      <td>TeodoroJurado@work.com</td>\n      <td>+56 2 3457 1266</td>\n    </tr>\n    <tr>\n      <th>71</th>\n      <td>Teresa</td>\n      <td>Rivero</td>\n      <td>Norte</td>\n      <td>TeresaRivero@work.com</td>\n      <td>+56 61 333 5066</td>\n    </tr>\n  </tbody>\n</table>\n<p>72 rows × 5 columns</p>\n</div>"
     },
     "execution_count": 41,
     "metadata": {},
     "output_type": "execute_result"
    }
   ],
   "source": [
    "table_2"
   ],
   "metadata": {
    "collapsed": false,
    "ExecuteTime": {
     "end_time": "2024-03-16T01:08:45.897626654Z",
     "start_time": "2024-03-16T01:08:45.872050468Z"
    }
   },
   "id": "4ec7fd7cb69c1c72"
  },
  {
   "cell_type": "markdown",
   "source": [
    "Save new data"
   ],
   "metadata": {
    "collapsed": false
   },
   "id": "6ee64e870347c7ed"
  },
  {
   "cell_type": "code",
   "execution_count": 42,
   "outputs": [],
   "source": [
    "with pd.ExcelWriter('transformed_data.xlsx') as writer:\n",
    "    table_1.to_excel(writer, sheet_name='Tabla1', index=False)\n",
    "    table_2.to_excel(writer, sheet_name='Tabla2', index=False)\n",
    "    table_3.to_excel(writer, sheet_name='Tabla3', index=False)\n",
    "    time.to_excel(writer, sheet_name='Tiempo', index=False)"
   ],
   "metadata": {
    "collapsed": false,
    "ExecuteTime": {
     "end_time": "2024-03-16T01:11:08.855164299Z",
     "start_time": "2024-03-16T01:11:07.336656243Z"
    }
   },
   "id": "53d6bf01353309da"
  },
  {
   "cell_type": "code",
   "execution_count": null,
   "outputs": [],
   "source": [],
   "metadata": {
    "collapsed": false
   },
   "id": "330e936677b6c566"
  }
 ],
 "metadata": {
  "kernelspec": {
   "display_name": "Python 3",
   "language": "python",
   "name": "python3"
  },
  "language_info": {
   "codemirror_mode": {
    "name": "ipython",
    "version": 2
   },
   "file_extension": ".py",
   "mimetype": "text/x-python",
   "name": "python",
   "nbconvert_exporter": "python",
   "pygments_lexer": "ipython2",
   "version": "2.7.6"
  }
 },
 "nbformat": 4,
 "nbformat_minor": 5
}
